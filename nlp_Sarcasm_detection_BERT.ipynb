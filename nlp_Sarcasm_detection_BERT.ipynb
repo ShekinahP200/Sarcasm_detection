{
  "nbformat": 4,
  "nbformat_minor": 0,
  "metadata": {
    "colab": {
      "provenance": [],
      "authorship_tag": "ABX9TyP+Kls0DUS5iDp8C0TvsvfG",
      "include_colab_link": true
    },
    "kernelspec": {
      "name": "python3",
      "display_name": "Python 3"
    },
    "language_info": {
      "name": "python"
    }
  },
  "cells": [
    {
      "cell_type": "markdown",
      "metadata": {
        "id": "view-in-github",
        "colab_type": "text"
      },
      "source": [
        "<a href=\"https://colab.research.google.com/github/ShekinahP200/Sarcasm_detection/blob/main/nlp_Sarcasm_detection_BERT.ipynb\" target=\"_parent\"><img src=\"https://colab.research.google.com/assets/colab-badge.svg\" alt=\"Open In Colab\"/></a>"
      ]
    },
    {
      "cell_type": "code",
      "execution_count": null,
      "metadata": {
        "colab": {
          "base_uri": "https://localhost:8080/"
        },
        "id": "ZdOeXvfaoJQb",
        "outputId": "7fb79ced-8c64-4216-f831-c10f275df02f"
      },
      "outputs": [
        {
          "output_type": "stream",
          "name": "stdout",
          "text": [
            "Requirement already satisfied: transformers in /usr/local/lib/python3.10/dist-packages (4.41.2)\n",
            "Requirement already satisfied: torch in /usr/local/lib/python3.10/dist-packages (2.3.0+cu121)\n",
            "Requirement already satisfied: keras in /usr/local/lib/python3.10/dist-packages (2.15.0)\n",
            "Requirement already satisfied: pandas in /usr/local/lib/python3.10/dist-packages (2.0.3)\n",
            "Requirement already satisfied: numpy in /usr/local/lib/python3.10/dist-packages (1.25.2)\n",
            "Requirement already satisfied: scikit-learn in /usr/local/lib/python3.10/dist-packages (1.2.2)\n",
            "Requirement already satisfied: filelock in /usr/local/lib/python3.10/dist-packages (from transformers) (3.15.4)\n",
            "Requirement already satisfied: huggingface-hub<1.0,>=0.23.0 in /usr/local/lib/python3.10/dist-packages (from transformers) (0.23.4)\n",
            "Requirement already satisfied: packaging>=20.0 in /usr/local/lib/python3.10/dist-packages (from transformers) (24.1)\n",
            "Requirement already satisfied: pyyaml>=5.1 in /usr/local/lib/python3.10/dist-packages (from transformers) (6.0.1)\n",
            "Requirement already satisfied: regex!=2019.12.17 in /usr/local/lib/python3.10/dist-packages (from transformers) (2024.5.15)\n",
            "Requirement already satisfied: requests in /usr/local/lib/python3.10/dist-packages (from transformers) (2.31.0)\n",
            "Requirement already satisfied: tokenizers<0.20,>=0.19 in /usr/local/lib/python3.10/dist-packages (from transformers) (0.19.1)\n",
            "Requirement already satisfied: safetensors>=0.4.1 in /usr/local/lib/python3.10/dist-packages (from transformers) (0.4.3)\n",
            "Requirement already satisfied: tqdm>=4.27 in /usr/local/lib/python3.10/dist-packages (from transformers) (4.66.4)\n",
            "Requirement already satisfied: typing-extensions>=4.8.0 in /usr/local/lib/python3.10/dist-packages (from torch) (4.12.2)\n",
            "Requirement already satisfied: sympy in /usr/local/lib/python3.10/dist-packages (from torch) (1.12.1)\n",
            "Requirement already satisfied: networkx in /usr/local/lib/python3.10/dist-packages (from torch) (3.3)\n",
            "Requirement already satisfied: jinja2 in /usr/local/lib/python3.10/dist-packages (from torch) (3.1.4)\n",
            "Requirement already satisfied: fsspec in /usr/local/lib/python3.10/dist-packages (from torch) (2023.6.0)\n",
            "Requirement already satisfied: nvidia-cuda-nvrtc-cu12==12.1.105 in /usr/local/lib/python3.10/dist-packages (from torch) (12.1.105)\n",
            "Requirement already satisfied: nvidia-cuda-runtime-cu12==12.1.105 in /usr/local/lib/python3.10/dist-packages (from torch) (12.1.105)\n",
            "Requirement already satisfied: nvidia-cuda-cupti-cu12==12.1.105 in /usr/local/lib/python3.10/dist-packages (from torch) (12.1.105)\n",
            "Requirement already satisfied: nvidia-cudnn-cu12==8.9.2.26 in /usr/local/lib/python3.10/dist-packages (from torch) (8.9.2.26)\n",
            "Requirement already satisfied: nvidia-cublas-cu12==12.1.3.1 in /usr/local/lib/python3.10/dist-packages (from torch) (12.1.3.1)\n",
            "Requirement already satisfied: nvidia-cufft-cu12==11.0.2.54 in /usr/local/lib/python3.10/dist-packages (from torch) (11.0.2.54)\n",
            "Requirement already satisfied: nvidia-curand-cu12==10.3.2.106 in /usr/local/lib/python3.10/dist-packages (from torch) (10.3.2.106)\n",
            "Requirement already satisfied: nvidia-cusolver-cu12==11.4.5.107 in /usr/local/lib/python3.10/dist-packages (from torch) (11.4.5.107)\n",
            "Requirement already satisfied: nvidia-cusparse-cu12==12.1.0.106 in /usr/local/lib/python3.10/dist-packages (from torch) (12.1.0.106)\n",
            "Requirement already satisfied: nvidia-nccl-cu12==2.20.5 in /usr/local/lib/python3.10/dist-packages (from torch) (2.20.5)\n",
            "Requirement already satisfied: nvidia-nvtx-cu12==12.1.105 in /usr/local/lib/python3.10/dist-packages (from torch) (12.1.105)\n",
            "Requirement already satisfied: triton==2.3.0 in /usr/local/lib/python3.10/dist-packages (from torch) (2.3.0)\n",
            "Requirement already satisfied: nvidia-nvjitlink-cu12 in /usr/local/lib/python3.10/dist-packages (from nvidia-cusolver-cu12==11.4.5.107->torch) (12.5.82)\n",
            "Requirement already satisfied: python-dateutil>=2.8.2 in /usr/local/lib/python3.10/dist-packages (from pandas) (2.8.2)\n",
            "Requirement already satisfied: pytz>=2020.1 in /usr/local/lib/python3.10/dist-packages (from pandas) (2023.4)\n",
            "Requirement already satisfied: tzdata>=2022.1 in /usr/local/lib/python3.10/dist-packages (from pandas) (2024.1)\n",
            "Requirement already satisfied: scipy>=1.3.2 in /usr/local/lib/python3.10/dist-packages (from scikit-learn) (1.11.4)\n",
            "Requirement already satisfied: joblib>=1.1.1 in /usr/local/lib/python3.10/dist-packages (from scikit-learn) (1.4.2)\n",
            "Requirement already satisfied: threadpoolctl>=2.0.0 in /usr/local/lib/python3.10/dist-packages (from scikit-learn) (3.5.0)\n",
            "Requirement already satisfied: six>=1.5 in /usr/local/lib/python3.10/dist-packages (from python-dateutil>=2.8.2->pandas) (1.16.0)\n",
            "Requirement already satisfied: MarkupSafe>=2.0 in /usr/local/lib/python3.10/dist-packages (from jinja2->torch) (2.1.5)\n",
            "Requirement already satisfied: charset-normalizer<4,>=2 in /usr/local/lib/python3.10/dist-packages (from requests->transformers) (3.3.2)\n",
            "Requirement already satisfied: idna<4,>=2.5 in /usr/local/lib/python3.10/dist-packages (from requests->transformers) (3.7)\n",
            "Requirement already satisfied: urllib3<3,>=1.21.1 in /usr/local/lib/python3.10/dist-packages (from requests->transformers) (2.0.7)\n",
            "Requirement already satisfied: certifi>=2017.4.17 in /usr/local/lib/python3.10/dist-packages (from requests->transformers) (2024.6.2)\n",
            "Requirement already satisfied: mpmath<1.4.0,>=1.1.0 in /usr/local/lib/python3.10/dist-packages (from sympy->torch) (1.3.0)\n"
          ]
        }
      ],
      "source": [
        "!pip install transformers torch keras pandas numpy scikit-learn\n"
      ]
    },
    {
      "cell_type": "code",
      "source": [
        "import pandas as pd\n",
        "import numpy as np\n",
        "from sklearn.model_selection import train_test_split\n",
        "from sklearn.metrics import classification_report, accuracy_score\n",
        "from transformers import BertTokenizer, BertForSequenceClassification, AdamW, get_linear_schedule_with_warmup\n",
        "import torch\n",
        "from torch.utils.data import TensorDataset, DataLoader, RandomSampler, SequentialSampler\n",
        "from keras.preprocessing.sequence import pad_sequences\n",
        "from keras.models import Sequential\n",
        "from keras.layers import Embedding, LSTM, Dense, Dropout\n"
      ],
      "metadata": {
        "id": "Zw-kPEsGpB2M"
      },
      "execution_count": 9,
      "outputs": []
    },
    {
      "cell_type": "code",
      "source": [
        "data_1 = pd.read_json(\"/content/Sarcasm_Headlines_Dataset.json\", lines=True)\n",
        "data_2 = pd.read_json(\"/content/Sarcasm_Headlines_Dataset_v2.json\", lines=True)\n",
        "data =  pd.concat([data_1, data_2])\n",
        "data.head()\n",
        "\n",
        "# Separate headlines and labels\n",
        "head_lines = data['headline'].values\n",
        "sentiment = data['is_sarcastic'].values\n",
        "\n",
        "# Split data into train and test sets\n",
        "X_train_bert, X_test_bert, y_train_bert, y_test_bert = train_test_split(head_lines, sentiment, test_size=0.2, random_state=42)\n",
        "X_train_lstm, X_test_lstm, y_train_lstm, y_test_lstm = train_test_split(head_lines, sentiment, test_size=0.2, random_state=42)\n"
      ],
      "metadata": {
        "id": "2uVydVvKpZz3"
      },
      "execution_count": 10,
      "outputs": []
    },
    {
      "cell_type": "code",
      "source": [
        "# Initialize BERT tokenizer\n",
        "tokenizer = BertTokenizer.from_pretrained('bert-base-uncased')\n",
        "\n",
        "# Tokenize and encode sequences for BERT\n",
        "max_length = 128  # Adjust as per your requirements\n",
        "\n",
        "def tokenize_sequences(headlines):\n",
        "    input_ids = []\n",
        "    attention_masks = []\n",
        "\n",
        "    for headline in headlines:\n",
        "        encoded_dict = tokenizer.encode_plus(\n",
        "                            headline,                      # Sentence to encode.\n",
        "                            add_special_tokens = True,     # Add '[CLS]' and '[SEP]'\n",
        "                            max_length = max_length,       # Pad & truncate all sentences.\n",
        "                            pad_to_max_length = True,\n",
        "                            return_attention_mask = True,  # Construct attn. masks.\n",
        "                            return_tensors = 'pt',         # Return pytorch tensors.\n",
        "                       )\n",
        "\n",
        "        # Add the encoded sentence to the list.\n",
        "        input_ids.append(encoded_dict['input_ids'])\n",
        "\n",
        "        # And its attention mask (simply differentiates padding from non-padding).\n",
        "        attention_masks.append(encoded_dict['attention_mask'])\n",
        "\n",
        "    # Convert the lists into tensors.\n",
        "    input_ids = torch.cat(input_ids, dim=0)\n",
        "    attention_masks = torch.cat(attention_masks, dim=0)\n",
        "\n",
        "    return input_ids, attention_masks\n",
        "\n",
        "# Tokenize and prepare input tensors for BERT\n",
        "X_train_ids, X_train_masks = tokenize_sequences(X_train_bert)\n",
        "X_test_ids, X_test_masks = tokenize_sequences(X_test_bert)\n"
      ],
      "metadata": {
        "colab": {
          "base_uri": "https://localhost:8080/"
        },
        "id": "5aFjXDrNpn4V",
        "outputId": "8f73076e-576d-4dcd-a88c-84d7a5e549cd"
      },
      "execution_count": 11,
      "outputs": [
        {
          "output_type": "stream",
          "name": "stderr",
          "text": [
            "Truncation was not explicitly activated but `max_length` is provided a specific value, please use `truncation=True` to explicitly truncate examples to max length. Defaulting to 'longest_first' truncation strategy. If you encode pairs of sequences (GLUE-style) with the tokenizer you can select this strategy more precisely by providing a specific strategy to `truncation`.\n",
            "/usr/local/lib/python3.10/dist-packages/transformers/tokenization_utils_base.py:2699: FutureWarning: The `pad_to_max_length` argument is deprecated and will be removed in a future version, use `padding=True` or `padding='longest'` to pad to the longest sequence in the batch, or use `padding='max_length'` to pad to a max length. In this case, you can give a specific length with `max_length` (e.g. `max_length=45`) or leave max_length to None to pad to the maximal input size of the model (e.g. 512 for Bert).\n",
            "  warnings.warn(\n"
          ]
        }
      ]
    },
    {
      "cell_type": "code",
      "source": [
        "from transformers import BertTokenizer, BertForSequenceClassification, AdamW, get_linear_schedule_with_warmup\n",
        "from sklearn.model_selection import train_test_split\n",
        "from sklearn.metrics import accuracy_score\n",
        "import torch\n",
        "from torch.utils.data import DataLoader, RandomSampler, SequentialSampler, TensorDataset\n",
        "import numpy as np\n",
        "\n",
        "# Define BERT model\n",
        "model_bert = BertForSequenceClassification.from_pretrained('bert-base-uncased', num_labels=2)\n",
        "\n",
        "# Set device (GPU if available)\n",
        "device = torch.device('cuda' if torch.cuda.is_available() else 'cpu')\n",
        "model_bert.to(device)\n",
        "\n",
        "# Create DataLoader for BERT\n",
        "batch_size = 16  # Reduced from 32 for debugging\n",
        "\n",
        "# Use a smaller subset of the data for quick debugging\n",
        "sample_size = 1000\n",
        "X_train_sample = X_train_ids[:sample_size]\n",
        "X_train_masks_sample = X_train_masks[:sample_size]\n",
        "y_train_sample = torch.tensor(y_train_bert[:sample_size])\n",
        "\n",
        "train_data = TensorDataset(X_train_sample, X_train_masks_sample, y_train_sample)\n",
        "train_sampler = RandomSampler(train_data)\n",
        "train_dataloader = DataLoader(train_data, sampler=train_sampler, batch_size=batch_size)\n",
        "\n",
        "X_test_sample = X_test_ids[:sample_size]\n",
        "X_test_masks_sample = X_test_masks[:sample_size]\n",
        "y_test_sample = torch.tensor(y_test_bert[:sample_size])\n",
        "\n",
        "test_data = TensorDataset(X_test_sample, X_test_masks_sample, y_test_sample)\n",
        "test_sampler = SequentialSampler(test_data)\n",
        "test_dataloader = DataLoader(test_data, sampler=test_sampler, batch_size=batch_size)\n",
        "\n",
        "# Optimizer and learning rate scheduler\n",
        "optimizer = AdamW(model_bert.parameters(), lr=2e-5, eps=1e-8)\n",
        "epochs = 1  # Reduced from 3 for quick debugging\n",
        "total_steps = len(train_dataloader) * epochs\n",
        "scheduler = get_linear_schedule_with_warmup(optimizer, num_warmup_steps=0, num_training_steps=total_steps)\n",
        "\n",
        "# Training loop for debugging\n",
        "for epoch in range(epochs):\n",
        "    model_bert.train()\n",
        "    total_train_loss = 0\n",
        "    for step, batch in enumerate(train_dataloader):\n",
        "        if step > 10:  # Limit the number of steps for debugging\n",
        "            break\n",
        "        batch = tuple(t.to(device) for t in batch)\n",
        "        inputs = {'input_ids': batch[0],\n",
        "                  'attention_mask': batch[1],\n",
        "                  'labels': batch[2]}\n",
        "        optimizer.zero_grad()\n",
        "        outputs = model_bert(**inputs)\n",
        "        loss = outputs[0]\n",
        "        total_train_loss += loss.item()\n",
        "        loss.backward()\n",
        "        torch.nn.utils.clip_grad_norm_(model_bert.parameters(), 1.0)\n",
        "        optimizer.step()\n",
        "        scheduler.step()\n",
        "\n",
        "    avg_train_loss = total_train_loss / len(train_dataloader)\n",
        "    print(f'Epoch {epoch + 1}/{epochs}, Average Training Loss: {avg_train_loss}')\n",
        "\n",
        "# Evaluation on test set\n",
        "model_bert.eval()\n",
        "total_eval_accuracy = 0\n",
        "for batch in test_dataloader:\n",
        "    batch = tuple(t.to(device) for t in batch)\n",
        "    inputs = {'input_ids': batch[0],\n",
        "              'attention_mask': batch[1],\n",
        "              'labels': batch[2]}\n",
        "    with torch.no_grad():\n",
        "        outputs = model_bert(**inputs)\n",
        "    logits = outputs[1].detach().cpu().numpy()\n",
        "    predictions = np.argmax(logits, axis=1).flatten()\n",
        "    total_eval_accuracy += accuracy_score(predictions, batch[2].cpu().numpy())\n",
        "\n",
        "avg_val_accuracy = total_eval_accuracy / len(test_dataloader)\n",
        "print(f'Accuracy on test set: {avg_val_accuracy}')\n"
      ],
      "metadata": {
        "colab": {
          "base_uri": "https://localhost:8080/"
        },
        "id": "Aa41T8v0pqKE",
        "outputId": "1db9e7ee-3d8f-41b8-e1a2-02d135dbab21"
      },
      "execution_count": 12,
      "outputs": [
        {
          "output_type": "stream",
          "name": "stderr",
          "text": [
            "Some weights of BertForSequenceClassification were not initialized from the model checkpoint at bert-base-uncased and are newly initialized: ['classifier.bias', 'classifier.weight']\n",
            "You should probably TRAIN this model on a down-stream task to be able to use it for predictions and inference.\n",
            "/usr/local/lib/python3.10/dist-packages/transformers/optimization.py:588: FutureWarning: This implementation of AdamW is deprecated and will be removed in a future version. Use the PyTorch implementation torch.optim.AdamW instead, or set `no_deprecation_warning=True` to disable this warning\n",
            "  warnings.warn(\n"
          ]
        },
        {
          "output_type": "stream",
          "name": "stdout",
          "text": [
            "Epoch 1/1, Average Training Loss: 0.11777066427563863\n",
            "Accuracy on test set: 0.6170634920634921\n"
          ]
        }
      ]
    },
    {
      "cell_type": "code",
      "source": [
        "from transformers import BertTokenizer, BertForSequenceClassification, AdamW, get_linear_schedule_with_warmup\n",
        "from sklearn.model_selection import train_test_split\n",
        "from sklearn.metrics import accuracy_score\n",
        "import torch\n",
        "from torch.utils.data import DataLoader, RandomSampler, SequentialSampler, TensorDataset\n",
        "import numpy as np\n",
        "from keras.preprocessing.text import Tokenizer\n",
        "from keras.preprocessing.sequence import pad_sequences\n",
        "from keras.models import Sequential\n",
        "from keras.layers import Embedding, LSTM, Dense, Dropout\n",
        "# Tokenize and pad sequences for LSTM\n",
        "tokenizer_obj = Tokenizer()\n",
        "tokenizer_obj.fit_on_texts(X_train_lstm)\n",
        "sequences = tokenizer_obj.texts_to_sequences(X_train_lstm)\n",
        "word_index = tokenizer_obj.word_index\n",
        "vocab_size = len(word_index) + 1\n",
        "max_length_lstm = 100  # Adjust as per your requirements\n",
        "\n",
        "lines_pad = pad_sequences(sequences, maxlen=max_length_lstm, padding='post')\n",
        "\n",
        "# Prepare test set for LSTM\n",
        "test_sequences = tokenizer_obj.texts_to_sequences(X_test_lstm)\n",
        "test_review_pad = pad_sequences(test_sequences, maxlen=max_length_lstm, padding='post')\n",
        "\n",
        "# Load pre-trained word embeddings if available\n",
        "embedding_dim = 100  # Adjust as per your embeddings dimension\n",
        "embedding_matrix = np.zeros((vocab_size, embedding_dim))\n",
        "\n",
        "# Define LSTM model architecture\n",
        "model_lstm = Sequential()\n",
        "model_lstm.add(Embedding(vocab_size, embedding_dim, weights=[embedding_matrix], input_length=max_length_lstm, trainable=False))\n",
        "model_lstm.add(LSTM(64, dropout=0.2, recurrent_dropout=0.25))\n",
        "model_lstm.add(Dense(1, activation='sigmoid'))\n",
        "\n",
        "# Compile LSTM model\n",
        "model_lstm.compile(loss='binary_crossentropy', optimizer='adam', metrics=['accuracy'])\n",
        "\n",
        "# Training LSTM model\n",
        "history_lstm = model_lstm.fit(lines_pad, y_train_lstm, epochs=10, batch_size=32, validation_data=(test_review_pad, y_test_lstm), verbose=2)\n"
      ],
      "metadata": {
        "id": "INwWDJy9pxgU",
        "colab": {
          "base_uri": "https://localhost:8080/"
        },
        "outputId": "3c5d828d-52e8-448a-f47c-3fa8114ce905"
      },
      "execution_count": 16,
      "outputs": [
        {
          "output_type": "stream",
          "name": "stdout",
          "text": [
            "Epoch 1/10\n",
            "1384/1384 - 235s - loss: 0.6894 - accuracy: 0.5443 - val_loss: 0.6917 - val_accuracy: 0.5312 - 235s/epoch - 170ms/step\n",
            "Epoch 2/10\n",
            "1384/1384 - 226s - loss: 0.6894 - accuracy: 0.5443 - val_loss: 0.6915 - val_accuracy: 0.5312 - 226s/epoch - 163ms/step\n",
            "Epoch 3/10\n",
            "1384/1384 - 240s - loss: 0.6893 - accuracy: 0.5443 - val_loss: 0.6922 - val_accuracy: 0.5312 - 240s/epoch - 174ms/step\n",
            "Epoch 4/10\n",
            "1384/1384 - 232s - loss: 0.6894 - accuracy: 0.5443 - val_loss: 0.6914 - val_accuracy: 0.5312 - 232s/epoch - 168ms/step\n",
            "Epoch 5/10\n",
            "1384/1384 - 236s - loss: 0.6893 - accuracy: 0.5443 - val_loss: 0.6915 - val_accuracy: 0.5312 - 236s/epoch - 170ms/step\n",
            "Epoch 6/10\n",
            "1384/1384 - 233s - loss: 0.6893 - accuracy: 0.5443 - val_loss: 0.6917 - val_accuracy: 0.5312 - 233s/epoch - 169ms/step\n",
            "Epoch 7/10\n",
            "1384/1384 - 229s - loss: 0.6893 - accuracy: 0.5443 - val_loss: 0.6919 - val_accuracy: 0.5312 - 229s/epoch - 166ms/step\n",
            "Epoch 8/10\n",
            "1384/1384 - 228s - loss: 0.6893 - accuracy: 0.5443 - val_loss: 0.6915 - val_accuracy: 0.5312 - 228s/epoch - 165ms/step\n",
            "Epoch 9/10\n",
            "1384/1384 - 236s - loss: 0.6892 - accuracy: 0.5443 - val_loss: 0.6913 - val_accuracy: 0.5312 - 236s/epoch - 171ms/step\n",
            "Epoch 10/10\n",
            "1384/1384 - 231s - loss: 0.6893 - accuracy: 0.5443 - val_loss: 0.6915 - val_accuracy: 0.5312 - 231s/epoch - 167ms/step\n"
          ]
        }
      ]
    },
    {
      "cell_type": "code",
      "source": [
        "def ensemble_predict(headline):\n",
        "    # BERT Prediction\n",
        "    inputs = tokenizer.encode_plus(headline, add_special_tokens=True, max_length=max_length, pad_to_max_length=True, return_tensors='pt')\n",
        "    input_ids = inputs['input_ids'].to(device)\n",
        "    attention_mask = inputs['attention_mask'].to(device)\n",
        "\n",
        "    with torch.no_grad():\n",
        "        outputs = model_bert(input_ids, attention_mask=attention_mask)\n",
        "    logits_bert = outputs[0].detach().cpu().numpy()\n",
        "    pred_bert = np.argmax(logits_bert, axis=1).flatten()\n",
        "\n",
        "    # LSTM Prediction\n",
        "    sequence = tokenizer_obj.texts_to_sequences([headline])\n",
        "    review_pad = pad_sequences(sequence, maxlen=max_length_lstm, padding='post')\n",
        "    lstm_pred = model_lstm.predict(review_pad)[0]\n",
        "\n",
        "    # Ensemble Prediction\n",
        "    ensemble_pred = (logits_bert[0][1] + lstm_pred) / 2\n",
        "\n",
        "    if ensemble_pred >= 0.5:\n",
        "        return \"It's a sarcasm!\"\n",
        "    else:\n",
        "        return \"It's not a sarcasm.\"\n"
      ],
      "metadata": {
        "id": "0YIjg8Nup5_m"
      },
      "execution_count": 24,
      "outputs": []
    },
    {
      "cell_type": "code",
      "source": [
        "ensemble_predict(\"Fantastic, the printer broke down again just when I needed it most\")"
      ],
      "metadata": {
        "colab": {
          "base_uri": "https://localhost:8080/",
          "height": 52
        },
        "id": "oTncPaqpS5Ph",
        "outputId": "65952b45-40ef-4224-cbca-08ba22d921b1"
      },
      "execution_count": 25,
      "outputs": [
        {
          "output_type": "stream",
          "name": "stdout",
          "text": [
            "1/1 [==============================] - 0s 112ms/step\n"
          ]
        },
        {
          "output_type": "execute_result",
          "data": {
            "text/plain": [
              "\"It's not a sarcasm.\""
            ],
            "application/vnd.google.colaboratory.intrinsic+json": {
              "type": "string"
            }
          },
          "metadata": {},
          "execution_count": 25
        }
      ]
    },
    {
      "cell_type": "code",
      "source": [
        "ensemble_predict(\"I enjoy going for a walk in the park on a sunny day.\")"
      ],
      "metadata": {
        "colab": {
          "base_uri": "https://localhost:8080/",
          "height": 52
        },
        "id": "NOSSnoLdTHX5",
        "outputId": "56b0d67a-1f51-4221-b41b-b93bf493b352"
      },
      "execution_count": 19,
      "outputs": [
        {
          "output_type": "stream",
          "name": "stdout",
          "text": [
            "1/1 [==============================] - 0s 57ms/step\n"
          ]
        },
        {
          "output_type": "execute_result",
          "data": {
            "text/plain": [
              "\"It's not a sarcasm.\""
            ],
            "application/vnd.google.colaboratory.intrinsic+json": {
              "type": "string"
            }
          },
          "metadata": {},
          "execution_count": 19
        }
      ]
    },
    {
      "cell_type": "code",
      "source": [
        "ensemble_predict(\"Sure, because I have nothing better to do than listen to your complaints.\")"
      ],
      "metadata": {
        "colab": {
          "base_uri": "https://localhost:8080/",
          "height": 52
        },
        "id": "DamiIQAWTQ7c",
        "outputId": "cba460a2-afe5-4f93-c1a9-a053e0565850"
      },
      "execution_count": 20,
      "outputs": [
        {
          "output_type": "stream",
          "name": "stdout",
          "text": [
            "1/1 [==============================] - 0s 55ms/step\n"
          ]
        },
        {
          "output_type": "execute_result",
          "data": {
            "text/plain": [
              "\"It's not a sarcasm.\""
            ],
            "application/vnd.google.colaboratory.intrinsic+json": {
              "type": "string"
            }
          },
          "metadata": {},
          "execution_count": 20
        }
      ]
    },
    {
      "cell_type": "code",
      "source": [
        "ensemble_predict(\"Wow, what a surprise, my favorite TV show got canceled.\")"
      ],
      "metadata": {
        "colab": {
          "base_uri": "https://localhost:8080/",
          "height": 52
        },
        "id": "s6lvbEY-Tao1",
        "outputId": "b0e59200-5a43-4291-df79-c35f6a0110e5"
      },
      "execution_count": 21,
      "outputs": [
        {
          "output_type": "stream",
          "name": "stdout",
          "text": [
            "1/1 [==============================] - 0s 61ms/step\n"
          ]
        },
        {
          "output_type": "execute_result",
          "data": {
            "text/plain": [
              "\"It's not a sarcasm.\""
            ],
            "application/vnd.google.colaboratory.intrinsic+json": {
              "type": "string"
            }
          },
          "metadata": {},
          "execution_count": 21
        }
      ]
    },
    {
      "cell_type": "code",
      "source": [
        "ensemble_predict(\"Oh great, another rainy day. Just what I needed!\")"
      ],
      "metadata": {
        "colab": {
          "base_uri": "https://localhost:8080/",
          "height": 52
        },
        "id": "zX75DnytThGH",
        "outputId": "65066575-1f03-40b0-f2b8-c73d0258547f"
      },
      "execution_count": 23,
      "outputs": [
        {
          "output_type": "stream",
          "name": "stdout",
          "text": [
            "1/1 [==============================] - 0s 56ms/step\n"
          ]
        },
        {
          "output_type": "execute_result",
          "data": {
            "text/plain": [
              "\"It's not a sarcasm.\""
            ],
            "application/vnd.google.colaboratory.intrinsic+json": {
              "type": "string"
            }
          },
          "metadata": {},
          "execution_count": 23
        }
      ]
    }
  ]
}